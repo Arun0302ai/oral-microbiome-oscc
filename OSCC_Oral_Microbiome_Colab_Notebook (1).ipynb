{
 "cells": [
  {
   "cell_type": "markdown",
   "id": "f0a576bc",
   "metadata": {},
   "source": [
    "# 🧬 Oral Microbiome Analysis: Biomarker Discovery for OSCC"
   ]
  },
  {
   "cell_type": "markdown",
   "id": "0da74c49",
   "metadata": {},
   "source": [
    "This Colab notebook demonstrates how to load 16S rRNA feature data, visualize taxonomic profiles, and apply machine learning models to classify samples as Healthy or OSCC."
   ]
  },
  {
   "cell_type": "code",
   "execution_count": null,
   "id": "3a9841be",
   "metadata": {},
   "outputs": [],
   "source": [
    "import pandas as pd\n",
    "import numpy as np\n",
    "import matplotlib.pyplot as plt\n",
    "import seaborn as sns\n",
    "from sklearn.model_selection import train_test_split\n",
    "from sklearn.ensemble import RandomForestClassifier\n",
    "from sklearn.metrics import classification_report, confusion_matrix, roc_auc_score, roc_curve\n"
   ]
  },
  {
   "cell_type": "markdown",
   "id": "992bbc59",
   "metadata": {},
   "source": [
    "## 📂 Load the Feature Table and Metadata"
   ]
  },
  {
   "cell_type": "code",
   "execution_count": null,
   "id": "14b45a35",
   "metadata": {},
   "outputs": [],
   "source": [
    "from google.colab import files\n",
    "uploaded = files.upload()\n",
    "# Example filenames: feature-table.tsv, metadata.csv\n"
   ]
  },
  {
   "cell_type": "code",
   "execution_count": null,
   "id": "d11e2b5d",
   "metadata": {},
   "outputs": [],
   "source": [
    "# Adjust this section according to uploaded filenames\n",
    "feature_table = pd.read_csv(\"feature-table.tsv\", sep=\"\\t\", index_col=0)\n",
    "metadata = pd.read_csv(\"metadata.csv\")\n",
    "\n",
    "# Join metadata to feature table\n",
    "data = feature_table.T.merge(metadata, left_index=True, right_on='SampleID')\n",
    "X = data.drop(columns=['SampleID', 'Class'])  # microbial features\n",
    "y = data['Class']  # Healthy or OSCC\n"
   ]
  },
  {
   "cell_type": "markdown",
   "id": "de6a4e0a",
   "metadata": {},
   "source": [
    "## 📊 Visualize Top Taxa"
   ]
  },
  {
   "cell_type": "code",
   "execution_count": null,
   "id": "3261aff1",
   "metadata": {},
   "outputs": [],
   "source": [
    "top_taxa = X.sum(axis=0).sort_values(ascending=False).head(10)\n",
    "top_taxa.plot(kind='bar', color='skyblue')\n",
    "plt.title(\"Top 10 Abundant Microbial Taxa\")\n",
    "plt.ylabel(\"Total Counts\")\n",
    "plt.xticks(rotation=45)\n",
    "plt.tight_layout()\n",
    "plt.show()\n"
   ]
  },
  {
   "cell_type": "markdown",
   "id": "8d54d4f8",
   "metadata": {},
   "source": [
    "## 🤖 Random Forest Classifier"
   ]
  },
  {
   "cell_type": "code",
   "execution_count": null,
   "id": "f7a8f799",
   "metadata": {},
   "outputs": [],
   "source": [
    "X_train, X_test, y_train, y_test = train_test_split(X, y, test_size=0.3, random_state=42)\n",
    "\n",
    "rf = RandomForestClassifier(n_estimators=100, random_state=42)\n",
    "rf.fit(X_train, y_train)\n",
    "y_pred = rf.predict(X_test)\n",
    "\n",
    "print(\"Classification Report:\")\n",
    "print(classification_report(y_test, y_pred))\n"
   ]
  },
  {
   "cell_type": "code",
   "execution_count": null,
   "id": "2c17be85",
   "metadata": {},
   "outputs": [],
   "source": [
    "cm = confusion_matrix(y_test, y_pred)\n",
    "sns.heatmap(cm, annot=True, fmt=\"d\", cmap=\"Blues\", xticklabels=['Healthy', 'OSCC'], yticklabels=['Healthy', 'OSCC'])\n",
    "plt.xlabel(\"Predicted\")\n",
    "plt.ylabel(\"Actual\")\n",
    "plt.title(\"Confusion Matrix\")\n",
    "plt.show()\n"
   ]
  },
  {
   "cell_type": "code",
   "execution_count": null,
   "id": "ac3bc4cc",
   "metadata": {},
   "outputs": [],
   "source": [
    "y_probs = rf.predict_proba(X_test)[:, 1]\n",
    "fpr, tpr, _ = roc_curve(y_test.map({'Healthy': 0, 'OSCC': 1}), y_probs)\n",
    "roc_auc = roc_auc_score(y_test.map({'Healthy': 0, 'OSCC': 1}), y_probs)\n",
    "\n",
    "plt.plot(fpr, tpr, label=f\"ROC Curve (AUC = {roc_auc:.2f})\")\n",
    "plt.plot([0, 1], [0, 1], 'k--')\n",
    "plt.xlabel(\"False Positive Rate\")\n",
    "plt.ylabel(\"True Positive Rate\")\n",
    "plt.title(\"Receiver Operating Characteristic\")\n",
    "plt.legend()\n",
    "plt.grid()\n",
    "plt.show()\n"
   ]
  }
 ],
 "metadata": {},
 "nbformat": 4,
 "nbformat_minor": 5
}